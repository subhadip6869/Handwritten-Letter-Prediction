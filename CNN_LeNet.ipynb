{
 "cells": [
  {
   "attachments": {},
   "cell_type": "markdown",
   "metadata": {
    "datalore": {
     "hide_input_from_viewers": false,
     "hide_output_from_viewers": false,
     "node_id": "ryozcWqnYD9Vc8iyv9ucWw",
     "report_properties": {
      "rowId": "CcxxgidgbiBSS3jWGyIoUA"
     },
     "type": "MD"
    }
   },
   "source": [
    "## Loading images from directory as dataset"
   ]
  },
  {
   "cell_type": "code",
   "execution_count": 2,
   "metadata": {},
   "outputs": [],
   "source": [
    "img_width, img_height = 100, 100\n",
    "input_shape = (img_width, img_height, 1)\n",
    "batch_size = 32\n",
    "num_classes = 62"
   ]
  },
  {
   "cell_type": "code",
   "execution_count": 3,
   "metadata": {
    "datalore": {
     "hide_input_from_viewers": false,
     "hide_output_from_viewers": false,
     "node_id": "c4IT2u2t1W4sMASv5HnkJX",
     "report_properties": {
      "rowId": "hcY2H1gIfZXJJQYzYE0f4y"
     },
     "type": "CODE"
    }
   },
   "outputs": [
    {
     "name": "stdout",
     "output_type": "stream",
     "text": [
      "Found 2356 images belonging to 62 classes.\n",
      "Found 682 images belonging to 62 classes.\n",
      "Found 372 images belonging to 62 classes.\n"
     ]
    }
   ],
   "source": [
    "from keras.preprocessing.image import ImageDataGenerator\n",
    "train_generator = ImageDataGenerator(rescale=1/255,\n",
    "                                     shear_range=0.2, zoom_range=0.2)\n",
    "data_generator = ImageDataGenerator(rescale=1/255)\n",
    "test_generator = ImageDataGenerator(rescale=1/255)\n",
    "\n",
    "train_ds = train_generator.flow_from_directory(\n",
    "    directory=\"./train\",\n",
    "    target_size = (img_width, img_height),\n",
    "    batch_size=batch_size,\n",
    "    color_mode=\"grayscale\",\n",
    "    class_mode=\"categorical\",\n",
    ")\n",
    "\n",
    "validation_ds = data_generator.flow_from_directory(\n",
    "    directory=\"./val\",\n",
    "    target_size = (img_width, img_height),\n",
    "    batch_size=batch_size,\n",
    "    color_mode=\"grayscale\",\n",
    "    class_mode=\"categorical\",\n",
    ")\n",
    "\n",
    "test_ds = test_generator.flow_from_directory(\n",
    "    directory=\"./test\",\n",
    "    target_size=(img_width, img_height),\n",
    "    batch_size=batch_size,\n",
    "    color_mode=\"grayscale\",\n",
    "    class_mode=\"categorical\",\n",
    ")"
   ]
  },
  {
   "attachments": {},
   "cell_type": "markdown",
   "metadata": {
    "datalore": {
     "hide_input_from_viewers": false,
     "hide_output_from_viewers": false,
     "node_id": "isSD68VG56lTxb9oTvAAmH",
     "report_properties": {
      "rowId": "iclnfZtDiRbRtMk1nir6W5"
     },
     "type": "MD"
    }
   },
   "source": [
    "## Building CNN model"
   ]
  },
  {
   "attachments": {},
   "cell_type": "markdown",
   "metadata": {},
   "source": [
    "### Importing required packages"
   ]
  },
  {
   "cell_type": "code",
   "execution_count": 4,
   "metadata": {
    "datalore": {
     "hide_input_from_viewers": false,
     "hide_output_from_viewers": false,
     "node_id": "N8NjTUlUU1OTjrhujREy7H",
     "report_properties": {
      "rowId": "OhRjxAWUxl05cR32cwfYUi"
     },
     "type": "CODE"
    }
   },
   "outputs": [],
   "source": [
    "from keras.models import Sequential\n",
    "from keras.layers import Dense, Flatten, Conv2D, MaxPooling2D, Activation\n",
    "from keras.layers import Dropout, BatchNormalization"
   ]
  },
  {
   "attachments": {},
   "cell_type": "markdown",
   "metadata": {
    "datalore": {
     "hide_input_from_viewers": false,
     "hide_output_from_viewers": false,
     "node_id": "3biOUAU7q9aSekBzPNThs9",
     "report_properties": {
      "rowId": "gNm9gvWl6EE7PUZt3jLfYq"
     },
     "type": "MD"
    }
   },
   "source": [
    "### Define the LeNet model"
   ]
  },
  {
   "cell_type": "code",
   "execution_count": 5,
   "metadata": {
    "datalore": {
     "hide_input_from_viewers": false,
     "hide_output_from_viewers": false,
     "node_id": "RzwEx3hpjCTP4okLrEiBYa",
     "report_properties": {
      "rowId": "3QdrhhCghz65EErN1iVRQj"
     },
     "type": "CODE"
    }
   },
   "outputs": [],
   "source": [
    "model = Sequential()\n",
    "\n",
    "# Block 1\n",
    "model.add(Conv2D(6, kernel_size=(5, 5), strides=(1, 1), activation='relu', input_shape=input_shape))\n",
    "model.add(MaxPooling2D(pool_size=(2, 2), strides=(2, 2)))\n",
    "\n",
    "# Block 2\n",
    "model.add(Conv2D(16, kernel_size=(5, 5), strides=(1, 1), activation='relu'))\n",
    "model.add(MaxPooling2D(pool_size=(2, 2), strides=(2, 2)))\n",
    "\n",
    "# Flatten the output from Block 2\n",
    "model.add(Flatten())\n",
    "\n",
    "# Block 3\n",
    "model.add(Dense(120, activation='relu'))\n",
    "\n",
    "# Block 4\n",
    "model.add(Dense(84, activation='relu'))\n",
    "\n",
    "# Output layer\n",
    "model.add(Dense(num_classes, activation='softmax'))"
   ]
  },
  {
   "cell_type": "code",
   "execution_count": 6,
   "metadata": {
    "datalore": {
     "hide_input_from_viewers": false,
     "hide_output_from_viewers": false,
     "node_id": "zcF5wiJChSlKUfG65hBNMQ",
     "report_properties": {
      "rowId": "3wFLROt4P0yBcLfr0aA5dZ"
     },
     "type": "CODE"
    }
   },
   "outputs": [
    {
     "name": "stdout",
     "output_type": "stream",
     "text": [
      "Model: \"sequential\"\n",
      "_________________________________________________________________\n",
      " Layer (type)                Output Shape              Param #   \n",
      "=================================================================\n",
      " conv2d (Conv2D)             (None, 96, 96, 6)         156       \n",
      "                                                                 \n",
      " max_pooling2d (MaxPooling2D  (None, 48, 48, 6)        0         \n",
      " )                                                               \n",
      "                                                                 \n",
      " conv2d_1 (Conv2D)           (None, 44, 44, 16)        2416      \n",
      "                                                                 \n",
      " max_pooling2d_1 (MaxPooling  (None, 22, 22, 16)       0         \n",
      " 2D)                                                             \n",
      "                                                                 \n",
      " flatten (Flatten)           (None, 7744)              0         \n",
      "                                                                 \n",
      " dense (Dense)               (None, 120)               929400    \n",
      "                                                                 \n",
      " dense_1 (Dense)             (None, 84)                10164     \n",
      "                                                                 \n",
      " dense_2 (Dense)             (None, 62)                5270      \n",
      "                                                                 \n",
      "=================================================================\n",
      "Total params: 947,406\n",
      "Trainable params: 947,406\n",
      "Non-trainable params: 0\n",
      "_________________________________________________________________\n"
     ]
    }
   ],
   "source": [
    "model.summary()"
   ]
  },
  {
   "cell_type": "code",
   "execution_count": 7,
   "metadata": {
    "datalore": {
     "hide_input_from_viewers": false,
     "hide_output_from_viewers": false,
     "node_id": "sQ6xuxbsVHST6Eekx6Dn55",
     "report_properties": {
      "rowId": "WxB917ODTKyRJxGhEDxa3K"
     },
     "type": "CODE"
    }
   },
   "outputs": [],
   "source": [
    "from keras import optimizers\n",
    "\n",
    "model.compile(\n",
    "    optimizers.Adam(learning_rate=0.001),\n",
    "    loss=\"categorical_crossentropy\",\n",
    "    metrics=[\"accuracy\"]\n",
    ")"
   ]
  },
  {
   "attachments": {},
   "cell_type": "markdown",
   "metadata": {
    "datalore": {
     "hide_input_from_viewers": false,
     "hide_output_from_viewers": false,
     "node_id": "KugRstOK7RJ4rlLaDqYYwv",
     "report_properties": {
      "rowId": "3r2U5SPDSavGSLOibhtXWD"
     },
     "type": "MD"
    }
   },
   "source": [
    "## Train/Fit The model"
   ]
  },
  {
   "cell_type": "code",
   "execution_count": 8,
   "metadata": {
    "datalore": {
     "hide_input_from_viewers": false,
     "hide_output_from_viewers": false,
     "node_id": "gBD1JqdwKQgpWZqdjB3nQ3",
     "report_properties": {
      "rowId": "cqwmXTlsthH2vvpGOL71Vr"
     },
     "type": "CODE"
    }
   },
   "outputs": [],
   "source": [
    "from keras.callbacks import EarlyStopping\n",
    "callback = EarlyStopping(\n",
    "    monitor='val_loss',\n",
    "    min_delta=0,\n",
    "    patience=6,\n",
    "    verbose=1,\n",
    "    mode='auto',\n",
    "    baseline=None,\n",
    "    restore_best_weights=False\n",
    ")"
   ]
  },
  {
   "cell_type": "code",
   "execution_count": 9,
   "metadata": {
    "datalore": {
     "hide_input_from_viewers": false,
     "hide_output_from_viewers": false,
     "node_id": "46it6Rw4kp0JKn2yIDtKvQ",
     "report_properties": {
      "rowId": "hPjbLJIPqBF99dDa6ZUKhn"
     },
     "type": "CODE"
    }
   },
   "outputs": [
    {
     "name": "stdout",
     "output_type": "stream",
     "text": [
      "Epoch 1/100\n",
      "74/74 [==============================] - 103s 1s/step - loss: 4.0588 - accuracy: 0.0386 - val_loss: 3.6922 - val_accuracy: 0.1261\n",
      "Epoch 2/100\n",
      "74/74 [==============================] - 76s 1s/step - loss: 3.0834 - accuracy: 0.2381 - val_loss: 2.8105 - val_accuracy: 0.3328\n",
      "Epoch 3/100\n",
      "74/74 [==============================] - 75s 1s/step - loss: 2.1367 - accuracy: 0.4410 - val_loss: 2.3698 - val_accuracy: 0.4443\n",
      "Epoch 4/100\n",
      "74/74 [==============================] - 75s 1s/step - loss: 1.5757 - accuracy: 0.5484 - val_loss: 2.0787 - val_accuracy: 0.5235\n",
      "Epoch 5/100\n",
      "74/74 [==============================] - 75s 1s/step - loss: 1.2232 - accuracy: 0.6532 - val_loss: 2.0168 - val_accuracy: 0.5630\n",
      "Epoch 6/100\n",
      "74/74 [==============================] - 75s 1s/step - loss: 0.9502 - accuracy: 0.7165 - val_loss: 1.9394 - val_accuracy: 0.6085\n",
      "Epoch 7/100\n",
      "74/74 [==============================] - 75s 1s/step - loss: 0.7784 - accuracy: 0.7627 - val_loss: 1.9934 - val_accuracy: 0.6217\n",
      "Epoch 8/100\n",
      "74/74 [==============================] - 75s 1s/step - loss: 0.6260 - accuracy: 0.8137 - val_loss: 2.0116 - val_accuracy: 0.6114\n",
      "Epoch 9/100\n",
      "74/74 [==============================] - 222s 3s/step - loss: 0.5535 - accuracy: 0.8336 - val_loss: 1.9754 - val_accuracy: 0.6290\n",
      "Epoch 10/100\n",
      "74/74 [==============================] - 67s 912ms/step - loss: 0.4522 - accuracy: 0.8565 - val_loss: 2.1999 - val_accuracy: 0.6202\n",
      "Epoch 11/100\n",
      "74/74 [==============================] - 78s 1s/step - loss: 0.3826 - accuracy: 0.8846 - val_loss: 2.2069 - val_accuracy: 0.6261\n",
      "Epoch 12/100\n",
      "74/74 [==============================] - 78s 1s/step - loss: 0.3375 - accuracy: 0.8930 - val_loss: 2.2729 - val_accuracy: 0.6188\n",
      "Epoch 13/100\n",
      "74/74 [==============================] - 77s 1s/step - loss: 0.2531 - accuracy: 0.9211 - val_loss: 2.3397 - val_accuracy: 0.6496\n",
      "Epoch 14/100\n",
      "74/74 [==============================] - 76s 1s/step - loss: 0.2595 - accuracy: 0.9155 - val_loss: 2.6106 - val_accuracy: 0.6305\n",
      "Epoch 15/100\n",
      "74/74 [==============================] - 76s 1s/step - loss: 0.2681 - accuracy: 0.9121 - val_loss: 2.5162 - val_accuracy: 0.6378\n",
      "Epoch 16/100\n",
      "74/74 [==============================] - 76s 1s/step - loss: 0.2071 - accuracy: 0.9317 - val_loss: 2.5360 - val_accuracy: 0.6144\n",
      "Epoch 17/100\n",
      "74/74 [==============================] - 75s 1s/step - loss: 0.2378 - accuracy: 0.9181 - val_loss: 2.5839 - val_accuracy: 0.6188\n",
      "Epoch 18/100\n",
      "74/74 [==============================] - 76s 1s/step - loss: 0.1779 - accuracy: 0.9452 - val_loss: 2.6788 - val_accuracy: 0.6452\n",
      "Epoch 19/100\n",
      "74/74 [==============================] - 76s 1s/step - loss: 0.1448 - accuracy: 0.9525 - val_loss: 2.6796 - val_accuracy: 0.6481\n",
      "Epoch 20/100\n",
      "74/74 [==============================] - 258s 4s/step - loss: 0.1650 - accuracy: 0.9457 - val_loss: 2.7695 - val_accuracy: 0.6305\n",
      "Epoch 21/100\n",
      "74/74 [==============================] - 60s 805ms/step - loss: 0.1431 - accuracy: 0.9584 - val_loss: 2.8434 - val_accuracy: 0.6334\n",
      "Epoch 22/100\n",
      "74/74 [==============================] - 71s 964ms/step - loss: 0.1593 - accuracy: 0.9554 - val_loss: 2.8302 - val_accuracy: 0.6261\n",
      "Epoch 23/100\n",
      "74/74 [==============================] - 78s 1s/step - loss: 0.1555 - accuracy: 0.9486 - val_loss: 2.8200 - val_accuracy: 0.6613\n",
      "Epoch 24/100\n",
      "74/74 [==============================] - 75s 1s/step - loss: 0.1142 - accuracy: 0.9614 - val_loss: 2.8800 - val_accuracy: 0.6276\n",
      "Epoch 25/100\n",
      "74/74 [==============================] - 75s 1s/step - loss: 0.1171 - accuracy: 0.9601 - val_loss: 2.9740 - val_accuracy: 0.6540\n",
      "Epoch 26/100\n",
      "74/74 [==============================] - 74s 1s/step - loss: 0.1293 - accuracy: 0.9516 - val_loss: 2.8358 - val_accuracy: 0.6510\n",
      "Epoch 27/100\n",
      "74/74 [==============================] - 74s 1000ms/step - loss: 0.1308 - accuracy: 0.9554 - val_loss: 2.9320 - val_accuracy: 0.6437\n",
      "Epoch 28/100\n",
      "74/74 [==============================] - 76s 1s/step - loss: 0.1438 - accuracy: 0.9588 - val_loss: 3.0332 - val_accuracy: 0.6320\n",
      "Epoch 29/100\n",
      "74/74 [==============================] - 75s 1s/step - loss: 0.0944 - accuracy: 0.9720 - val_loss: 3.0835 - val_accuracy: 0.6481\n",
      "Epoch 30/100\n",
      "74/74 [==============================] - 75s 1s/step - loss: 0.0962 - accuracy: 0.9703 - val_loss: 3.1029 - val_accuracy: 0.6452\n",
      "Epoch 31/100\n",
      "74/74 [==============================] - 74s 1s/step - loss: 0.0868 - accuracy: 0.9737 - val_loss: 3.3351 - val_accuracy: 0.6437\n",
      "Epoch 32/100\n",
      "74/74 [==============================] - 75s 1s/step - loss: 0.0972 - accuracy: 0.9631 - val_loss: 3.2268 - val_accuracy: 0.6452\n",
      "Epoch 33/100\n",
      "74/74 [==============================] - 76s 1s/step - loss: 0.1106 - accuracy: 0.9686 - val_loss: 3.1744 - val_accuracy: 0.6202\n",
      "Epoch 34/100\n",
      "74/74 [==============================] - 74s 1s/step - loss: 0.0755 - accuracy: 0.9784 - val_loss: 3.2697 - val_accuracy: 0.6334\n",
      "Epoch 35/100\n",
      "74/74 [==============================] - 111s 2s/step - loss: 0.0852 - accuracy: 0.9711 - val_loss: 3.1115 - val_accuracy: 0.6422\n",
      "Epoch 36/100\n",
      "74/74 [==============================] - 55s 750ms/step - loss: 0.0909 - accuracy: 0.9699 - val_loss: 3.1977 - val_accuracy: 0.6364\n",
      "Epoch 37/100\n",
      "74/74 [==============================] - 74s 1s/step - loss: 0.0568 - accuracy: 0.9839 - val_loss: 3.3527 - val_accuracy: 0.6569\n",
      "Epoch 38/100\n",
      "74/74 [==============================] - 82s 1s/step - loss: 0.0533 - accuracy: 0.9801 - val_loss: 3.3227 - val_accuracy: 0.6613\n",
      "Epoch 39/100\n",
      "74/74 [==============================] - 78s 1s/step - loss: 0.0867 - accuracy: 0.9724 - val_loss: 3.0858 - val_accuracy: 0.6510\n",
      "Epoch 40/100\n",
      "74/74 [==============================] - 79s 1s/step - loss: 0.0891 - accuracy: 0.9737 - val_loss: 3.4996 - val_accuracy: 0.6452\n",
      "Epoch 41/100\n",
      "74/74 [==============================] - 80s 1s/step - loss: 0.0822 - accuracy: 0.9745 - val_loss: 3.4665 - val_accuracy: 0.6422\n",
      "Epoch 42/100\n",
      "74/74 [==============================] - 77s 1s/step - loss: 0.1235 - accuracy: 0.9648 - val_loss: 3.1624 - val_accuracy: 0.6452\n",
      "Epoch 43/100\n",
      "74/74 [==============================] - 78s 1s/step - loss: 0.0691 - accuracy: 0.9758 - val_loss: 3.3274 - val_accuracy: 0.6481\n",
      "Epoch 44/100\n",
      "74/74 [==============================] - 82s 1s/step - loss: 0.0791 - accuracy: 0.9771 - val_loss: 3.5063 - val_accuracy: 0.6422\n",
      "Epoch 45/100\n",
      "74/74 [==============================] - 81s 1s/step - loss: 0.0907 - accuracy: 0.9694 - val_loss: 3.3867 - val_accuracy: 0.6540\n",
      "Epoch 46/100\n",
      "74/74 [==============================] - 82s 1s/step - loss: 0.0843 - accuracy: 0.9716 - val_loss: 3.4468 - val_accuracy: 0.6466\n",
      "Epoch 47/100\n",
      "74/74 [==============================] - 79s 1s/step - loss: 0.0782 - accuracy: 0.9720 - val_loss: 3.4306 - val_accuracy: 0.6598\n",
      "Epoch 48/100\n",
      "74/74 [==============================] - 79s 1s/step - loss: 0.0964 - accuracy: 0.9682 - val_loss: 3.2787 - val_accuracy: 0.6452\n",
      "Epoch 49/100\n",
      "74/74 [==============================] - 81s 1s/step - loss: 0.0866 - accuracy: 0.9716 - val_loss: 3.5658 - val_accuracy: 0.6393\n",
      "Epoch 50/100\n",
      "74/74 [==============================] - 79s 1s/step - loss: 0.0728 - accuracy: 0.9767 - val_loss: 3.5354 - val_accuracy: 0.6554\n",
      "Epoch 51/100\n",
      "74/74 [==============================] - 78s 1s/step - loss: 0.0896 - accuracy: 0.9711 - val_loss: 3.5014 - val_accuracy: 0.6584\n",
      "Epoch 52/100\n",
      "74/74 [==============================] - 77s 1s/step - loss: 0.0861 - accuracy: 0.9724 - val_loss: 3.4167 - val_accuracy: 0.6496\n",
      "Epoch 53/100\n",
      "74/74 [==============================] - 76s 1s/step - loss: 0.0761 - accuracy: 0.9762 - val_loss: 3.3053 - val_accuracy: 0.6510\n",
      "Epoch 54/100\n",
      "74/74 [==============================] - 76s 1s/step - loss: 0.0456 - accuracy: 0.9864 - val_loss: 3.5282 - val_accuracy: 0.6642\n",
      "Epoch 55/100\n",
      "74/74 [==============================] - 76s 1s/step - loss: 0.0534 - accuracy: 0.9839 - val_loss: 3.4399 - val_accuracy: 0.6598\n",
      "Epoch 56/100\n",
      "74/74 [==============================] - 78s 1s/step - loss: 0.0611 - accuracy: 0.9809 - val_loss: 3.3012 - val_accuracy: 0.6496\n",
      "Epoch 57/100\n",
      "74/74 [==============================] - 77s 1s/step - loss: 0.0377 - accuracy: 0.9898 - val_loss: 3.6425 - val_accuracy: 0.6496\n",
      "Epoch 58/100\n",
      "74/74 [==============================] - 75s 1s/step - loss: 0.0381 - accuracy: 0.9843 - val_loss: 3.5749 - val_accuracy: 0.6584\n",
      "Epoch 59/100\n",
      "74/74 [==============================] - 80s 1s/step - loss: 0.0446 - accuracy: 0.9881 - val_loss: 3.6081 - val_accuracy: 0.6642\n",
      "Epoch 60/100\n",
      "74/74 [==============================] - 82s 1s/step - loss: 0.0508 - accuracy: 0.9856 - val_loss: 3.4821 - val_accuracy: 0.6437\n",
      "Epoch 61/100\n",
      "74/74 [==============================] - 78s 1s/step - loss: 0.0501 - accuracy: 0.9847 - val_loss: 3.4236 - val_accuracy: 0.6789\n",
      "Epoch 62/100\n",
      "74/74 [==============================] - 77s 1s/step - loss: 0.0726 - accuracy: 0.9809 - val_loss: 3.4136 - val_accuracy: 0.6554\n",
      "Epoch 63/100\n",
      "74/74 [==============================] - 80s 1s/step - loss: 0.0434 - accuracy: 0.9873 - val_loss: 3.6105 - val_accuracy: 0.6613\n",
      "Epoch 64/100\n",
      "74/74 [==============================] - 81s 1s/step - loss: 0.0439 - accuracy: 0.9868 - val_loss: 3.7776 - val_accuracy: 0.6466\n",
      "Epoch 65/100\n",
      "74/74 [==============================] - 81s 1s/step - loss: 0.0550 - accuracy: 0.9822 - val_loss: 3.9357 - val_accuracy: 0.6408\n",
      "Epoch 66/100\n",
      "74/74 [==============================] - 81s 1s/step - loss: 0.0519 - accuracy: 0.9830 - val_loss: 3.6266 - val_accuracy: 0.6422\n",
      "Epoch 67/100\n",
      "74/74 [==============================] - 81s 1s/step - loss: 0.0590 - accuracy: 0.9792 - val_loss: 3.8734 - val_accuracy: 0.6481\n",
      "Epoch 68/100\n",
      "74/74 [==============================] - 82s 1s/step - loss: 0.0687 - accuracy: 0.9788 - val_loss: 3.7471 - val_accuracy: 0.6584\n",
      "Epoch 69/100\n",
      "74/74 [==============================] - 81s 1s/step - loss: 0.0473 - accuracy: 0.9847 - val_loss: 3.6405 - val_accuracy: 0.6364\n",
      "Epoch 70/100\n",
      "74/74 [==============================] - 81s 1s/step - loss: 0.0729 - accuracy: 0.9792 - val_loss: 3.4354 - val_accuracy: 0.6525\n",
      "Epoch 71/100\n",
      "74/74 [==============================] - 62s 831ms/step - loss: 0.0449 - accuracy: 0.9851 - val_loss: 3.6790 - val_accuracy: 0.6584\n",
      "Epoch 72/100\n",
      "74/74 [==============================] - 42s 566ms/step - loss: 0.0456 - accuracy: 0.9847 - val_loss: 3.6591 - val_accuracy: 0.6569\n",
      "Epoch 73/100\n",
      "74/74 [==============================] - 42s 564ms/step - loss: 0.0301 - accuracy: 0.9898 - val_loss: 3.8548 - val_accuracy: 0.6554\n",
      "Epoch 74/100\n",
      "74/74 [==============================] - 42s 566ms/step - loss: 0.0434 - accuracy: 0.9839 - val_loss: 4.0248 - val_accuracy: 0.6466\n",
      "Epoch 75/100\n",
      "74/74 [==============================] - 42s 571ms/step - loss: 0.0651 - accuracy: 0.9801 - val_loss: 3.8788 - val_accuracy: 0.6525\n",
      "Epoch 76/100\n",
      "74/74 [==============================] - 42s 569ms/step - loss: 0.0408 - accuracy: 0.9898 - val_loss: 3.6876 - val_accuracy: 0.6569\n",
      "Epoch 77/100\n",
      "74/74 [==============================] - 42s 570ms/step - loss: 0.0583 - accuracy: 0.9834 - val_loss: 3.5641 - val_accuracy: 0.6569\n",
      "Epoch 78/100\n",
      "74/74 [==============================] - 42s 570ms/step - loss: 0.0336 - accuracy: 0.9894 - val_loss: 3.6211 - val_accuracy: 0.6584\n",
      "Epoch 79/100\n",
      "74/74 [==============================] - 42s 569ms/step - loss: 0.0490 - accuracy: 0.9839 - val_loss: 3.8156 - val_accuracy: 0.6496\n",
      "Epoch 80/100\n",
      "74/74 [==============================] - 42s 574ms/step - loss: 0.0368 - accuracy: 0.9894 - val_loss: 3.7112 - val_accuracy: 0.6525\n",
      "Epoch 81/100\n",
      "74/74 [==============================] - 46s 627ms/step - loss: 0.0680 - accuracy: 0.9809 - val_loss: 3.7126 - val_accuracy: 0.6408\n",
      "Epoch 82/100\n",
      "74/74 [==============================] - 42s 574ms/step - loss: 0.0452 - accuracy: 0.9873 - val_loss: 3.7538 - val_accuracy: 0.6613\n",
      "Epoch 83/100\n",
      "74/74 [==============================] - 50s 679ms/step - loss: 0.0267 - accuracy: 0.9932 - val_loss: 3.7530 - val_accuracy: 0.6554\n",
      "Epoch 84/100\n",
      "74/74 [==============================] - 69s 937ms/step - loss: 0.0192 - accuracy: 0.9928 - val_loss: 3.7385 - val_accuracy: 0.6628\n",
      "Epoch 85/100\n",
      "74/74 [==============================] - 42s 573ms/step - loss: 0.0260 - accuracy: 0.9941 - val_loss: 3.9205 - val_accuracy: 0.6672\n",
      "Epoch 86/100\n",
      "74/74 [==============================] - 43s 574ms/step - loss: 0.0255 - accuracy: 0.9941 - val_loss: 3.7734 - val_accuracy: 0.6613\n",
      "Epoch 87/100\n",
      "74/74 [==============================] - 42s 570ms/step - loss: 0.0323 - accuracy: 0.9911 - val_loss: 4.0094 - val_accuracy: 0.6540\n",
      "Epoch 88/100\n",
      "74/74 [==============================] - 42s 569ms/step - loss: 0.0809 - accuracy: 0.9775 - val_loss: 3.7017 - val_accuracy: 0.6569\n",
      "Epoch 89/100\n",
      "74/74 [==============================] - 42s 571ms/step - loss: 0.0431 - accuracy: 0.9864 - val_loss: 4.0322 - val_accuracy: 0.6554\n",
      "Epoch 90/100\n",
      "74/74 [==============================] - 42s 563ms/step - loss: 0.0621 - accuracy: 0.9805 - val_loss: 3.8154 - val_accuracy: 0.6525\n",
      "Epoch 91/100\n",
      "74/74 [==============================] - 41s 561ms/step - loss: 0.0465 - accuracy: 0.9856 - val_loss: 3.6540 - val_accuracy: 0.6613\n",
      "Epoch 92/100\n",
      "74/74 [==============================] - 41s 560ms/step - loss: 0.0428 - accuracy: 0.9847 - val_loss: 3.9194 - val_accuracy: 0.6364\n",
      "Epoch 93/100\n",
      "74/74 [==============================] - 41s 559ms/step - loss: 0.0403 - accuracy: 0.9890 - val_loss: 3.7741 - val_accuracy: 0.6789\n",
      "Epoch 94/100\n",
      "74/74 [==============================] - 42s 563ms/step - loss: 0.0334 - accuracy: 0.9907 - val_loss: 3.9260 - val_accuracy: 0.6716\n",
      "Epoch 95/100\n",
      "74/74 [==============================] - 45s 604ms/step - loss: 0.0390 - accuracy: 0.9911 - val_loss: 3.7795 - val_accuracy: 0.6701\n",
      "Epoch 96/100\n",
      "74/74 [==============================] - 54s 728ms/step - loss: 0.0246 - accuracy: 0.9915 - val_loss: 3.9279 - val_accuracy: 0.6730\n",
      "Epoch 97/100\n",
      "74/74 [==============================] - 42s 562ms/step - loss: 0.0355 - accuracy: 0.9860 - val_loss: 3.8525 - val_accuracy: 0.6598\n",
      "Epoch 98/100\n",
      "74/74 [==============================] - 41s 558ms/step - loss: 0.0390 - accuracy: 0.9856 - val_loss: 3.9709 - val_accuracy: 0.6598\n",
      "Epoch 99/100\n",
      "74/74 [==============================] - 42s 562ms/step - loss: 0.0666 - accuracy: 0.9813 - val_loss: 3.4836 - val_accuracy: 0.6569\n",
      "Epoch 100/100\n",
      "74/74 [==============================] - 41s 559ms/step - loss: 0.0524 - accuracy: 0.9843 - val_loss: 3.7486 - val_accuracy: 0.6584\n"
     ]
    }
   ],
   "source": [
    "epochs_range = 100\n",
    "# Train the model\n",
    "history = model.fit(train_ds, batch_size=32, \n",
    "                    epochs=epochs_range,callbacks=None,\n",
    "                    validation_data=validation_ds)"
   ]
  },
  {
   "attachments": {},
   "cell_type": "markdown",
   "metadata": {
    "datalore": {
     "hide_input_from_viewers": false,
     "hide_output_from_viewers": false,
     "node_id": "5FgsdtLgfIpn5is625iEDt",
     "report_properties": {
      "rowId": "Snux1cKCrsKjVFu8XGsFEg"
     },
     "type": "MD"
    }
   },
   "source": [
    "## Plot the result"
   ]
  },
  {
   "cell_type": "code",
   "execution_count": 10,
   "metadata": {
    "datalore": {
     "hide_input_from_viewers": false,
     "hide_output_from_viewers": false,
     "node_id": "63tqyfS9cJx8YY1vYQka0t",
     "report_properties": {
      "rowId": "ZJM3jeEpjWQWoBcV8CnVIl"
     },
     "type": "CODE"
    }
   },
   "outputs": [],
   "source": [
    "import matplotlib.pyplot as plt"
   ]
  },
  {
   "cell_type": "code",
   "execution_count": 11,
   "metadata": {
    "datalore": {
     "hide_input_from_viewers": false,
     "hide_output_from_viewers": false,
     "node_id": "jrz5EaMbOExI5SrubIGn7F",
     "report_properties": {
      "rowId": "X4MvGVL5DODbgReeQDMqJf"
     },
     "type": "CODE"
    }
   },
   "outputs": [
    {
     "data": {
      "image/png": "[encoded data removed]",
      "text/plain": [
       "<Figure size 1000x1000 with 2 Axes>"
      ]
     },
     "metadata": {},
     "output_type": "display_data"
    }
   ],
   "source": [
    "acc = history.history['accuracy']\n",
    "val_acc = history.history['val_accuracy']\n",
    "loss = history.history['loss']\n",
    "val_loss = history.history['val_loss']\n",
    "\n",
    "plt.figure(figsize=(10, 10))\n",
    "plt.subplot(2, 2, 1)\n",
    "plt.plot(range(len(acc)), acc, label='Training Accuracy')\n",
    "plt.plot(range(len(val_acc)), val_acc, label='Validation Accuracy')\n",
    "plt.legend(loc='lower right')\n",
    "plt.title('Training and Validation Accuracy')\n",
    "\n",
    "plt.subplot(2, 2, 2)\n",
    "plt.plot(range(len(loss)), loss, label='Training Loss')\n",
    "plt.plot(range(len(val_loss)), val_loss, label='Validation Loss')\n",
    "plt.legend(loc='upper right')\n",
    "plt.title('Training and Validation Loss')\n",
    "plt.show()"
   ]
  },
  {
   "attachments": {},
   "cell_type": "markdown",
   "metadata": {
    "datalore": {
     "hide_input_from_viewers": false,
     "hide_output_from_viewers": false,
     "node_id": "v0shSb1ePQKxEhSk6lM2EP",
     "report_properties": {
      "rowId": "ecCbm9t5xnygX4TuPDuENa"
     },
     "type": "MD"
    }
   },
   "source": [
    "## Save the model"
   ]
  },
  {
   "cell_type": "code",
   "execution_count": 12,
   "metadata": {
    "datalore": {
     "hide_input_from_viewers": false,
     "hide_output_from_viewers": false,
     "node_id": "kll5dlcs5Ce1jeMO9yKn4v",
     "report_properties": {
      "rowId": "cjEYJeKO9xK8pauKhZVX86"
     },
     "type": "CODE"
    }
   },
   "outputs": [
    {
     "name": "stdout",
     "output_type": "stream",
     "text": [
      "Prediction Dict:  {'0': 0, '1': 1, '10': 2, '11': 3, '12': 4, '13': 5, '14': 6, '15': 7, '16': 8, '17': 9, '18': 10, '19': 11, '2': 12, '20': 13, '21': 14, '22': 15, '23': 16, '24': 17, '25': 18, '26': 19, '27': 20, '28': 21, '29': 22, '3': 23, '30': 24, '31': 25, '32': 26, '33': 27, '34': 28, '35': 29, '36': 30, '37': 31, '38': 32, '39': 33, '4': 34, '40': 35, '41': 36, '42': 37, '43': 38, '44': 39, '45': 40, '46': 41, '47': 42, '48': 43, '49': 44, '5': 45, '50': 46, '51': 47, '52': 48, '53': 49, '54': 50, '55': 51, '56': 52, '57': 53, '58': 54, '59': 55, '6': 56, '60': 57, '61': 58, '7': 59, '8': 60, '9': 61}\n"
     ]
    }
   ],
   "source": [
    "# Save the model as model.h5\n",
    "model.save('model_lenet.h5')\n",
    "# Print the class indices \n",
    "print(\"Prediction Dict: \", train_ds.class_indices)"
   ]
  }
 ],
 "metadata": {
  "datalore": {
   "base_environment": "default",
   "computation_mode": "JUPYTER",
   "package_manager": "pip",
   "packages": [],
   "report_row_ids": [
    "CcxxgidgbiBSS3jWGyIoUA",
    "hcY2H1gIfZXJJQYzYE0f4y",
    "iclnfZtDiRbRtMk1nir6W5",
    "4DBniQoHDG03tqiF8J63Du",
    "ia4ZRguVz6JNvfUaKIAxoO",
    "OhRjxAWUxl05cR32cwfYUi",
    "X7XneoasKU1HSoIYtWX28Z",
    "gNm9gvWl6EE7PUZt3jLfYq",
    "3QdrhhCghz65EErN1iVRQj",
    "3wFLROt4P0yBcLfr0aA5dZ",
    "POAkxLm0Zdc6KyqvgKvrY7",
    "qzA6n7MCuv2AbryG16lUJM",
    "WxB917ODTKyRJxGhEDxa3K",
    "3r2U5SPDSavGSLOibhtXWD",
    "cqwmXTlsthH2vvpGOL71Vr",
    "hPjbLJIPqBF99dDa6ZUKhn",
    "Snux1cKCrsKjVFu8XGsFEg",
    "ZJM3jeEpjWQWoBcV8CnVIl",
    "X4MvGVL5DODbgReeQDMqJf",
    "ecCbm9t5xnygX4TuPDuENa",
    "cjEYJeKO9xK8pauKhZVX86",
    "gtOXakqtc3ivmI0TsLUrco",
    "arxSTTR1x7HUG8SLfUcvmq",
    "WbH3qOIxmEgzNrBEiZ1912"
   ],
   "version": 2
  },
  "kernelspec": {
   "display_name": "venv",
   "language": "python",
   "name": "python3"
  },
  "language_info": {
   "codemirror_mode": {
    "name": "ipython",
    "version": 3
   },
   "file_extension": ".py",
   "mimetype": "text/x-python",
   "name": "python",
   "nbconvert_exporter": "python",
   "pygments_lexer": "ipython3",
   "version": "3.9.10"
  }
 },
 "nbformat": 4,
 "nbformat_minor": 4
}
