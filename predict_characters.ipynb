{
 "cells": [
  {
   "attachments": {},
   "cell_type": "markdown",
   "metadata": {},
   "source": [
    "## Explore the classes"
   ]
  },
  {
   "cell_type": "code",
   "execution_count": 38,
   "metadata": {},
   "outputs": [],
   "source": [
    "classes_dict = {0: '0', 1: '1', 2: '2', 3: '3', 4: '4', \n",
    "                5: '5', 6: '6', 7: '7', 8: '8', 9: '9', \n",
    "                10: 'A', 11: 'B', 12: 'C', 13: 'D', 14: 'E', \n",
    "                15: 'F', 16: 'G', 17: 'H', 18: 'I', 19: 'J', \n",
    "                20: 'K', 21: 'L', 22: 'M', 23: 'N', 24: 'O', \n",
    "                25: 'P', 26: 'Q', 27: 'R', 28: 'S', 29: 'T', \n",
    "                30: 'U', 31: 'V', 32: 'W', 33: 'X', 34: 'Y', \n",
    "                35: 'Z', 36: 'a', 37: 'b', 38: 'c', 39: 'd', \n",
    "                40: 'e', 41: 'f', 42: 'g', 43: 'h', 44: 'i', \n",
    "                45: 'j', 46: 'k', 47: 'l', 48: 'm', 49: 'n', \n",
    "                50: 'o', 51: 'p', 52: 'q', 53: 'r', 54: 's', \n",
    "                55: 't', 56: 'u', 57: 'v', 58: 'w', 59: 'x', \n",
    "                60: 'y', 61: 'z'}\n",
    "class_keys = [str(i) for i in classes_dict.keys()]\n",
    "class_keys.sort()"
   ]
  },
  {
   "cell_type": "markdown",
   "metadata": {},
   "source": [
    "## Load model"
   ]
  },
  {
   "cell_type": "code",
   "execution_count": 37,
   "metadata": {},
   "outputs": [],
   "source": [
    "from keras.models import load_model\n",
    "# Load the model\n",
    "model = load_model('model_alexnet.h5')"
   ]
  },
  {
   "cell_type": "markdown",
   "metadata": {
    "id": "SHTXsAcnfu_q"
   },
   "source": [
    "## Testing with external data"
   ]
  },
  {
   "attachments": {},
   "cell_type": "markdown",
   "metadata": {},
   "source": [
    "#### Load Image"
   ]
  },
  {
   "cell_type": "code",
   "execution_count": 5,
   "metadata": {},
   "outputs": [],
   "source": [
    "import cv2\n",
    "import matplotlib.pyplot as plt"
   ]
  },
  {
   "cell_type": "code",
   "execution_count": 39,
   "metadata": {
    "colab": {
     "base_uri": "https://localhost:8080/",
     "height": 287
    },
    "executionInfo": {
     "elapsed": 1282,
     "status": "ok",
     "timestamp": 1674628161946,
     "user": {
      "displayName": "Subhadip Dutta",
      "userId": "12251160483596280424"
     },
     "user_tz": -330
    },
    "id": "n83MIOE7f0SP",
    "outputId": "8c092d1e-b282-4ad0-9159-638a6800c3c5"
   },
   "outputs": [
    {
     "data": {
      "text/plain": "<Figure size 640x480 with 1 Axes>",
      "image/png": "[encoded data removed]"
     },
     "metadata": {},
     "output_type": "display_data"
    },
    {
     "name": "stdout",
     "output_type": "stream",
     "text": [
      "(614, 799)\n"
     ]
    }
   ],
   "source": [
    "org_img = cv2.imread(\"./ext/my_cH.jpg\", cv2.IMREAD_GRAYSCALE)\n",
    "ret, test_img = cv2.threshold(org_img, 120, 255, cv2.THRESH_BINARY)\n",
    "plt.imshow(test_img, cmap=\"gray\")\n",
    "plt.show()\n",
    "print(test_img.shape)\n",
    "test_img = cv2.resize(test_img, (100, 100))\n",
    "test_input = test_img.reshape((1, 100, 100, 1))"
   ]
  },
  {
   "attachments": {},
   "cell_type": "markdown",
   "metadata": {},
   "source": [
    "### Detect character in image"
   ]
  },
  {
   "cell_type": "code",
   "execution_count": 7,
   "metadata": {},
   "outputs": [],
   "source": [
    "import numpy as np"
   ]
  },
  {
   "cell_type": "code",
   "execution_count": 40,
   "metadata": {},
   "outputs": [
    {
     "name": "stdout",
     "output_type": "stream",
     "text": [
      "1/1 [==============================] - 0s 469ms/step\n",
      "Prediction key: 16\n",
      "Folder id: 23\n",
      "Predicted letter: N\n"
     ]
    }
   ],
   "source": [
    "man_pred = model.predict(test_input)\n",
    "max_pred = man_pred.max(1)\n",
    "pred_key = int(np.where(man_pred == max_pred)[1])\n",
    "print(f\"Prediction key: {pred_key}\")\n",
    "# folder_id = int(list(train_ds.class_indices.keys())[list(train_ds.class_indices.values()).index(pred_key)])\n",
    "folder_id = int(class_keys[pred_key])\n",
    "print(f\"Folder id: {folder_id}\")\n",
    "print(f\"Predicted letter: {classes_dict[folder_id]}\")"
   ]
  }
 ],
 "metadata": {
  "kernelspec": {
   "display_name": "venv",
   "language": "python",
   "name": "python3"
  },
  "language_info": {
   "codemirror_mode": {
    "name": "ipython",
    "version": 3
   },
   "file_extension": ".py",
   "mimetype": "text/x-python",
   "name": "python",
   "nbconvert_exporter": "python",
   "pygments_lexer": "ipython3",
   "version": "3.9.10"
  },
  "orig_nbformat": 4,
  "vscode": {
   "interpreter": {
    "hash": "062159312d02a92a52eb8ba15ab7bcbed6ed7596c4a8867f8c3ea3f0eed0f150"
   }
  }
 },
 "nbformat": 4,
 "nbformat_minor": 2
}
