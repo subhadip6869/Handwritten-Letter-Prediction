{
 "cells": [
  {
   "cell_type": "markdown",
   "metadata": {},
   "source": [
    "## Loading images from directory as dataset"
   ]
  },
  {
   "cell_type": "code",
   "execution_count": 1,
   "metadata": {},
   "outputs": [],
   "source": [
    "img_width, img_height = 100, 100\n",
    "input_shape = (img_width, img_height, 1)\n",
    "batch_size = 32\n",
    "output_classes = 62"
   ]
  },
  {
   "cell_type": "code",
   "execution_count": 2,
   "metadata": {
    "colab": {
     "base_uri": "https://localhost:8080/"
    },
    "executionInfo": {
     "elapsed": 1067,
     "status": "ok",
     "timestamp": 1674623156715,
     "user": {
      "displayName": "Subhadip Dutta",
      "userId": "12251160483596280424"
     },
     "user_tz": -330
    },
    "id": "Ils5Mg0Qs9Z2",
    "outputId": "fdcf3be9-85e0-4d26-c179-8b32b7388b56"
   },
   "outputs": [
    {
     "name": "stdout",
     "output_type": "stream",
     "text": [
      "Found 2356 images belonging to 62 classes.\n",
      "Found 682 images belonging to 62 classes.\n",
      "Found 372 images belonging to 62 classes.\n"
     ]
    }
   ],
   "source": [
    "import keras\n",
    "from keras.preprocessing.image import ImageDataGenerator\n",
    "train_generator = ImageDataGenerator(rescale=1/255, \n",
    "                                     shear_range=0.2, zoom_range=0.2)\n",
    "data_generator = ImageDataGenerator(rescale=1/255)\n",
    "test_generator = ImageDataGenerator(rescale=1/255)\n",
    "\n",
    "train_ds = train_generator.flow_from_directory(\n",
    "    directory=\"./train\",\n",
    "    target_size = (img_width, img_height),\n",
    "    batch_size=batch_size,\n",
    "    color_mode=\"grayscale\",\n",
    "    class_mode=\"categorical\",\n",
    ")\n",
    "\n",
    "validation_ds = data_generator.flow_from_directory(\n",
    "    directory=\"./val\",\n",
    "    target_size = (img_width, img_height),\n",
    "    batch_size=batch_size,\n",
    "    color_mode=\"grayscale\",\n",
    "    class_mode=\"categorical\",\n",
    ")\n",
    "\n",
    "test_ds = test_generator.flow_from_directory(\n",
    "    directory=\"./test\",\n",
    "    target_size=(img_width, img_height),\n",
    "    batch_size=batch_size,\n",
    "    color_mode=\"grayscale\",\n",
    "    class_mode=\"categorical\",\n",
    ")"
   ]
  },
  {
   "cell_type": "markdown",
   "metadata": {
    "id": "eQ5jlGsOs9Z7"
   },
   "source": [
    "## Building CNN model"
   ]
  },
  {
   "cell_type": "code",
   "execution_count": 3,
   "metadata": {},
   "outputs": [],
   "source": [
    "from keras.models import Sequential\n",
    "from keras.layers import Dense, Flatten, Conv2D, MaxPooling2D, Dropout, BatchNormalization\n"
   ]
  },
  {
   "cell_type": "code",
   "execution_count": 4,
   "metadata": {
    "executionInfo": {
     "elapsed": 1939,
     "status": "ok",
     "timestamp": 1674623818808,
     "user": {
      "displayName": "Subhadip Dutta",
      "userId": "12251160483596280424"
     },
     "user_tz": -330
    },
    "id": "jDB3Rwpu1nio"
   },
   "outputs": [],
   "source": [
    "# model = Sequential()\n",
    "# model.add(Conv2D(32, kernel_size = (3, 3), padding = 'same', input_shape = (100, 100, 1), activation = 'relu'))\n",
    "# model.add(Conv2D(32, kernel_size = (3, 3), activation = 'relu'))\n",
    "# model.add(MaxPooling2D(pool_size = (2, 2)))\n",
    "# model.add(BatchNormalization())\n",
    "# model.add(Dropout(0.5))\n",
    "# model.add(Conv2D(64, kernel_size = (3, 3), activation = 'relu'))\n",
    "# model.add(Conv2D(64, kernel_size = (3, 3),activation = 'relu'))\n",
    "# model.add(MaxPooling2D(pool_size = (2, 2)))\n",
    "# model.add(BatchNormalization())\n",
    "# model.add(Dropout(0.5))\n",
    "# model.add(Conv2D(64, kernel_size = (3, 3), activation = 'relu'))\n",
    "# model.add(Conv2D(64, kernel_size = (3, 3), activation = 'relu'))\n",
    "# model.add(MaxPooling2D(pool_size = (2, 2)))\n",
    "# model.add(Flatten())\n",
    "\n",
    "# model.add(Dense(512, activation='relu'))\n",
    "# model.add(BatchNormalization())\n",
    "# model.add(Dropout(0.5))\n",
    "# model.add(Dense(62, activation = 'softmax'))"
   ]
  },
  {
   "cell_type": "code",
   "execution_count": 5,
   "metadata": {},
   "outputs": [],
   "source": [
    "model = Sequential()\n",
    "model.add(Conv2D(32, (3, 3), activation='relu', input_shape=input_shape))\n",
    "model.add(MaxPooling2D((2, 2)))\n",
    "model.add(Conv2D(64, (3, 3), activation='relu'))\n",
    "model.add(MaxPooling2D((2, 2)))\n",
    "model.add(Conv2D(128, (3, 3), activation='relu'))\n",
    "model.add(MaxPooling2D((2, 2)))\n",
    "model.add(Flatten())\n",
    "model.add(Dense(512, activation='relu'))\n",
    "model.add(Dropout(0.5))\n",
    "model.add(Dense(output_classes, activation='softmax'))"
   ]
  },
  {
   "cell_type": "code",
   "execution_count": 6,
   "metadata": {
    "colab": {
     "base_uri": "https://localhost:8080/"
    },
    "executionInfo": {
     "elapsed": 1420,
     "status": "ok",
     "timestamp": 1674623732896,
     "user": {
      "displayName": "Subhadip Dutta",
      "userId": "12251160483596280424"
     },
     "user_tz": -330
    },
    "id": "lwy1x_zH3a-w",
    "outputId": "1bf552ce-e709-491b-c311-ef5d9790c3a0",
    "scrolled": true
   },
   "outputs": [
    {
     "name": "stdout",
     "output_type": "stream",
     "text": [
      "Model: \"sequential\"\n",
      "_________________________________________________________________\n",
      " Layer (type)                Output Shape              Param #   \n",
      "=================================================================\n",
      " conv2d (Conv2D)             (None, 98, 98, 32)        320       \n",
      "                                                                 \n",
      " max_pooling2d (MaxPooling2D  (None, 49, 49, 32)       0         \n",
      " )                                                               \n",
      "                                                                 \n",
      " conv2d_1 (Conv2D)           (None, 47, 47, 64)        18496     \n",
      "                                                                 \n",
      " max_pooling2d_1 (MaxPooling  (None, 23, 23, 64)       0         \n",
      " 2D)                                                             \n",
      "                                                                 \n",
      " conv2d_2 (Conv2D)           (None, 21, 21, 128)       73856     \n",
      "                                                                 \n",
      " max_pooling2d_2 (MaxPooling  (None, 10, 10, 128)      0         \n",
      " 2D)                                                             \n",
      "                                                                 \n",
      " flatten (Flatten)           (None, 12800)             0         \n",
      "                                                                 \n",
      " dense (Dense)               (None, 512)               6554112   \n",
      "                                                                 \n",
      " dropout (Dropout)           (None, 512)               0         \n",
      "                                                                 \n",
      " dense_1 (Dense)             (None, 62)                31806     \n",
      "                                                                 \n",
      "=================================================================\n",
      "Total params: 6,678,590\n",
      "Trainable params: 6,678,590\n",
      "Non-trainable params: 0\n",
      "_________________________________________________________________\n"
     ]
    }
   ],
   "source": [
    "model.summary()"
   ]
  },
  {
   "cell_type": "code",
   "execution_count": 7,
   "metadata": {
    "executionInfo": {
     "elapsed": 715,
     "status": "ok",
     "timestamp": 1674623831750,
     "user": {
      "displayName": "Subhadip Dutta",
      "userId": "12251160483596280424"
     },
     "user_tz": -330
    },
    "id": "FUg-KDyS3yPW"
   },
   "outputs": [],
   "source": [
    "# from keras import optimizers\n",
    "\n",
    "# model.compile(\n",
    "#     optimizers.RMSprop(learning_rate=0.0001),\n",
    "#     loss=\"categorical_crossentropy\",\n",
    "#     metrics=[\"accuracy\"]\n",
    "# )"
   ]
  },
  {
   "cell_type": "code",
   "execution_count": 8,
   "metadata": {},
   "outputs": [],
   "source": [
    "model.compile(optimizer='adam',\n",
    "              loss='categorical_crossentropy',\n",
    "              metrics=['accuracy'])"
   ]
  },
  {
   "cell_type": "markdown",
   "metadata": {
    "id": "Mg1MEvMQs9aD"
   },
   "source": [
    "## Train/Fit the model"
   ]
  },
  {
   "cell_type": "code",
   "execution_count": 9,
   "metadata": {},
   "outputs": [],
   "source": [
    "from keras.callbacks import EarlyStopping\n",
    "callback = EarlyStopping(\n",
    "    monitor='val_loss',\n",
    "    min_delta=0.001,\n",
    "    patience=6,\n",
    "    verbose=1,\n",
    "    mode='auto',\n",
    "    baseline=None,\n",
    "    restore_best_weights=False\n",
    ")"
   ]
  },
  {
   "cell_type": "code",
   "execution_count": 10,
   "metadata": {
    "colab": {
     "base_uri": "https://localhost:8080/"
    },
    "executionInfo": {
     "elapsed": 416306,
     "status": "ok",
     "timestamp": 1674624613170,
     "user": {
      "displayName": "Subhadip Dutta",
      "userId": "12251160483596280424"
     },
     "user_tz": -330
    },
    "id": "NC7s8dSGs9aE",
    "outputId": "9b080d90-84fe-4dd3-9d65-a72a863ab52b",
    "scrolled": true
   },
   "outputs": [
    {
     "name": "stdout",
     "output_type": "stream",
     "text": [
      "Epoch 1/100\n",
      "73/73 [==============================] - 126s 2s/step - loss: 4.0438 - accuracy: 0.0366 - val_loss: 3.5021 - val_accuracy: 0.1443\n",
      "Epoch 2/100\n",
      "73/73 [==============================] - 94s 1s/step - loss: 3.2239 - accuracy: 0.1919 - val_loss: 2.4625 - val_accuracy: 0.4018\n",
      "Epoch 3/100\n",
      "73/73 [==============================] - 92s 1s/step - loss: 2.3069 - accuracy: 0.3911 - val_loss: 1.9461 - val_accuracy: 0.5446\n",
      "Epoch 4/100\n",
      "73/73 [==============================] - 94s 1s/step - loss: 1.6664 - accuracy: 0.5361 - val_loss: 1.6943 - val_accuracy: 0.6101\n",
      "Epoch 5/100\n",
      "73/73 [==============================] - 94s 1s/step - loss: 1.2945 - accuracy: 0.6407 - val_loss: 1.6135 - val_accuracy: 0.6295\n",
      "Epoch 6/100\n",
      "73/73 [==============================] - 72s 988ms/step - loss: 1.0915 - accuracy: 0.6682 - val_loss: 1.6105 - val_accuracy: 0.6473\n",
      "Epoch 7/100\n",
      "73/73 [==============================] - 61s 842ms/step - loss: 0.9090 - accuracy: 0.7319 - val_loss: 1.4696 - val_accuracy: 0.6815\n",
      "Epoch 8/100\n",
      "73/73 [==============================] - 61s 840ms/step - loss: 0.7478 - accuracy: 0.7698 - val_loss: 1.6151 - val_accuracy: 0.6786\n",
      "Epoch 9/100\n",
      "73/73 [==============================] - 61s 828ms/step - loss: 0.6199 - accuracy: 0.7991 - val_loss: 1.6844 - val_accuracy: 0.6726\n",
      "Epoch 10/100\n",
      "73/73 [==============================] - 60s 821ms/step - loss: 0.5898 - accuracy: 0.8219 - val_loss: 1.5619 - val_accuracy: 0.6964\n",
      "Epoch 11/100\n",
      "73/73 [==============================] - 60s 818ms/step - loss: 0.4785 - accuracy: 0.8451 - val_loss: 1.6967 - val_accuracy: 0.7039\n",
      "Epoch 12/100\n",
      "73/73 [==============================] - 60s 820ms/step - loss: 0.4126 - accuracy: 0.8636 - val_loss: 1.7538 - val_accuracy: 0.7098\n",
      "Epoch 13/100\n",
      "73/73 [==============================] - 60s 821ms/step - loss: 0.4059 - accuracy: 0.8657 - val_loss: 1.7014 - val_accuracy: 0.7098\n",
      "Epoch 13: early stopping\n"
     ]
    }
   ],
   "source": [
    "epochs_range = 100\n",
    "# Train the model\n",
    "history = model.fit(train_ds, validation_data=validation_ds, \n",
    "                    epochs=epochs_range,callbacks = callback,\n",
    "                    steps_per_epoch=train_ds.samples // batch_size,\n",
    "                    validation_steps=validation_ds.samples // batch_size)"
   ]
  },
  {
   "cell_type": "markdown",
   "metadata": {
    "id": "Gds39cxUs9aF"
   },
   "source": [
    "## Plot the result"
   ]
  },
  {
   "cell_type": "code",
   "execution_count": 11,
   "metadata": {},
   "outputs": [],
   "source": [
    "import matplotlib.pyplot as plt"
   ]
  },
  {
   "cell_type": "code",
   "execution_count": 13,
   "metadata": {
    "id": "qMB-ZaiMs9aG",
    "outputId": "ba274531-1a87-421d-f626-fa9c5542e620"
   },
   "outputs": [
    {
     "data": {
      "text/plain": "<Figure size 1000x1000 with 2 Axes>",
      "image/png": "[encoded data removed]"
     },
     "metadata": {},
     "output_type": "display_data"
    }
   ],
   "source": [
    "acc = history.history['accuracy']\n",
    "val_acc = history.history['val_accuracy']\n",
    "loss = history.history['loss']\n",
    "val_loss = history.history['val_loss']\n",
    "\n",
    "plt.figure(figsize=(10, 10))\n",
    "plt.subplot(2, 2, 1)\n",
    "plt.plot(range(len(acc)), acc, label='Training Accuracy')\n",
    "plt.plot(range(len(val_acc)), val_acc, label='Validation Accuracy')\n",
    "plt.legend(loc='lower right')\n",
    "plt.title('Training and Validation Accuracy')\n",
    "\n",
    "plt.subplot(2, 2, 2)\n",
    "plt.plot(range(len(loss)), loss, label='Training Loss')\n",
    "plt.plot(range(len(val_loss)), val_loss, label='Validation Loss')\n",
    "plt.legend(loc='upper right')\n",
    "plt.title('Training and Validation Loss')\n",
    "plt.show()"
   ]
  },
  {
   "attachments": {},
   "cell_type": "markdown",
   "metadata": {
    "id": "9TNgxulds9aH"
   },
   "source": [
    "## Save the model"
   ]
  },
  {
   "cell_type": "code",
   "execution_count": 14,
   "metadata": {
    "executionInfo": {
     "elapsed": 1106,
     "status": "ok",
     "timestamp": 1674624770421,
     "user": {
      "displayName": "Subhadip Dutta",
      "userId": "12251160483596280424"
     },
     "user_tz": -330
    },
    "id": "A6GcAqPJs9aI"
   },
   "outputs": [],
   "source": [
    "# Save the model as model.h5\n",
    "model.save('basic_model.h5')"
   ]
  },
  {
   "cell_type": "code",
   "execution_count": 16,
   "metadata": {
    "colab": {
     "base_uri": "https://localhost:8080/",
     "height": 1000
    },
    "executionInfo": {
     "elapsed": 2413,
     "status": "ok",
     "timestamp": 1674625242540,
     "user": {
      "displayName": "Subhadip Dutta",
      "userId": "12251160483596280424"
     },
     "user_tz": -330
    },
    "id": "bDbMgpB_s9aI",
    "outputId": "8c20e8c0-5086-4022-c410-79f865a30c94"
   },
   "outputs": [
    {
     "name": "stdout",
     "output_type": "stream",
     "text": [
      "Prediction Dict:  {'0': 0, '1': 1, '10': 2, '11': 3, '12': 4, '13': 5, '14': 6, '15': 7, '16': 8, '17': 9, '18': 10, '19': 11, '2': 12, '20': 13, '21': 14, '22': 15, '23': 16, '24': 17, '25': 18, '26': 19, '27': 20, '28': 21, '29': 22, '3': 23, '30': 24, '31': 25, '32': 26, '33': 27, '34': 28, '35': 29, '36': 30, '37': 31, '38': 32, '39': 33, '4': 34, '40': 35, '41': 36, '42': 37, '43': 38, '44': 39, '45': 40, '46': 41, '47': 42, '48': 43, '49': 44, '5': 45, '50': 46, '51': 47, '52': 48, '53': 49, '54': 50, '55': 51, '56': 52, '57': 53, '58': 54, '59': 55, '6': 56, '60': 57, '61': 58, '7': 59, '8': 60, '9': 61}\n"
     ]
    }
   ],
   "source": [
    "# Print the class indices \n",
    "print(\"Prediction Dict: \", train_ds.class_indices)"
   ]
  }
 ],
 "metadata": {
  "accelerator": "GPU",
  "colab": {
   "provenance": []
  },
  "gpuClass": "standard",
  "kernelspec": {
   "display_name": "venv",
   "language": "python",
   "name": "python3"
  },
  "language_info": {
   "codemirror_mode": {
    "name": "ipython",
    "version": 3
   },
   "file_extension": ".py",
   "mimetype": "text/x-python",
   "name": "python",
   "nbconvert_exporter": "python",
   "pygments_lexer": "ipython3",
   "version": "3.9.10"
  },
  "vscode": {
   "interpreter": {
    "hash": "9975fd39bcab639bb6cf51f326a373ae754122f2430163c8ef038241f9723ffc"
   }
  }
 },
 "nbformat": 4,
 "nbformat_minor": 1
}
